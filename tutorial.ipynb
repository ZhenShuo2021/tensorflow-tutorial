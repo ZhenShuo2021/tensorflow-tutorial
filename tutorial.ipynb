{
  "nbformat": 4,
  "nbformat_minor": 0,
  "metadata": {
    "colab": {
      "provenance": [],
      "toc_visible": true
    },
    "kernelspec": {
      "name": "python3",
      "display_name": "Python 3"
    },
    "language_info": {
      "name": "python"
    }
  },
  "cells": [
    {
      "cell_type": "markdown",
      "source": [
        "# This shows how to build a tensorflow(2.x) model with various method. Guides on the internet are not explained well, especially the pros and cons between them.\n",
        "# 這示範各種不同建tf(2.x) model的方法，網路上介紹的都很破也沒介紹方法間的優劣，尤其是中文資源（OO邦倒忙）。"
      ],
      "metadata": {
        "id": "auI49Clrs98j"
      }
    },
    {
      "cell_type": "markdown",
      "source": [
        "The methods are listed below:\n",
        "有以下幾種方法\n",
        "\n",
        "1.   Sequential 連續\n",
        "2.   Functional 功能\n",
        "3.   Class 類別\n",
        "\n",
        "First we talked about sequential. We usually not use sequential only if your model is a straight line. Below is a sequential model with multiple layers.\n",
        "\n",
        "首先介紹sequential，簡單來說如果你的model一條線就完成了那可以使用sequential，所以通常不會用它，下面是三個dense layer的sqeuential model。\n",
        "\n"
      ],
      "metadata": {
        "id": "f8AM85IiteDv"
      }
    },
    {
      "cell_type": "code",
      "source": [
        "from tensorflow import keras\n",
        "from tensorflow.keras import layers\n",
        "model = keras.Sequential(\n",
        "    [\n",
        "        layers.Dense(2, activation=\"relu\", name=\"layer1\"),\n",
        "        layers.Dense(3, activation=\"relu\", name=\"layer2\"),\n",
        "        layers.Dense(4, name=\"layer3\"),\n",
        "    ]\n",
        ")"
      ],
      "metadata": {
        "id": "5Qmewa9ktFoc"
      },
      "execution_count": null,
      "outputs": []
    },
    {
      "cell_type": "markdown",
      "source": [
        "Next we move to Functional method. This is the most used method in my coding. It has the merit of elasticity build that you can build any types of network with this method, and you don't need to type much like class method. Example below shows the cross layer connection that fails in sequential method. The double defined x2 variable shows that the tensorflow will calculate the connection for re-defined x2, so you can be ease for it (it is counted in).\n",
        "\n",
        "Functional是最彈性的搭建方法，所有類型的網路都可以用它建而且不用像class打一堆字，下面的add layer就是sequential法無法做到的。連續兩次出現的x2表示tensorflow會計算被重新命名的x2變數，所以不用擔心這樣沒接到。"
      ],
      "metadata": {
        "id": "JXNZ8D_9vEM7"
      }
    },
    {
      "cell_type": "code",
      "source": [
        "inputs = layers.Input((10, 20), batch_size=None)\n",
        "x1 = layers.Dense(64, activation=\"relu\")(inputs)\n",
        "x2 = layers.Dense(64, activation=\"relu\")(x1)\n",
        "x2 = layers.Add()([x1, x2])\n",
        "outputs = layers.Dense(10)(x2)\n",
        "model = keras.Model(inputs=inputs, outputs=outputs, name=\"mnist_model\")"
      ],
      "metadata": {
        "id": "jq6KTGG7wJi1"
      },
      "execution_count": null,
      "outputs": []
    },
    {
      "cell_type": "markdown",
      "source": [
        "You can define batch_size later, the argument here just a early define. If you don't define it here the model.summary() would shows first dimension (batch dimension) None until you fit it. The second bracket behind layers.Dense is where the dense layer connect from.\n",
        "Next we talk about some trick in functional method. You can get the intermediate output by following, and check the model.outputs checks the output dimension:\n",
        "\n",
        "layers.Input的batch_size只是提早指定batch size，如果你現在用model.summary()的話第一個維度(batch size的維度)會顯示None。layers.Dense的第二個括弧決定這層是從哪裡接來的。\n",
        "接下來我們講一些有用的trick，如果要取得中間層的輸出可以這樣寫，然後用model.outputs檢查輸出維度："
      ],
      "metadata": {
        "id": "RJpMKhA5wGS6"
      }
    },
    {
      "cell_type": "code",
      "source": [
        "model2 = keras.Model(inputs=inputs, outputs=x1)\n",
        "model2(YOUR_INPUT_DATA)\n",
        "print(model2.inputs)\n",
        "print(model2.outputs)"
      ],
      "metadata": {
        "id": "CTdQHyfQw4IW"
      },
      "execution_count": null,
      "outputs": []
    },
    {
      "cell_type": "markdown",
      "source": [
        "If your network is build by many same block, you can do this (you can also do this with sequential method):\n",
        "\n",
        "如果你的網路是好幾個同樣的小網路構成可以這樣寫(sequential也可以這樣)："
      ],
      "metadata": {
        "id": "ZhJpb05Jtdd0"
      }
    },
    {
      "cell_type": "code",
      "source": [
        "def small_model(depth):\n",
        "  inputs = layers.Input((10, 20), batch_size=None)\n",
        "  for i in range(depth):\n",
        "    x1 = layers.Dense(64, activation=\"relu\")(inputs)\n",
        "    x2 = layers.Dense(64, activation=\"relu\")(x1)\n",
        "  outputs = layers.Dense(10)(x2)\n",
        "  # return layers.Dense(10)(x2)\n",
        "  return keras.Model(inputs=inputs, outputs=outputs)\n",
        "\n",
        "x = layers.Input((10, 20), batch_size=None)\n",
        "x1 = small_model(depth)(x)\n",
        "x2 = small_model(depth)(x)\n",
        "outputs = layers.Add()([x1, x2])\n",
        "model3 = keras.Model(inputs=inputs, outputs=outputs, name=\"mnist_model\")"
      ],
      "metadata": {
        "id": "HFyBNi-QxngQ"
      },
      "execution_count": null,
      "outputs": []
    },
    {
      "cell_type": "markdown",
      "source": [
        "This shows the network you can define the depth in one shot. It also shows how to outputs multiple layer within single inputs.\n",
        "Here comes the new problem. What if the def not return model but a layer? The answer is you can more easily view all the layer in your network, on the contrary, return model would directly outputs small_block with property model. You can check this by model3.summary() or tf.keras.utils.plot_model(model3). Below is the example by return layer.\n",
        "\n",
        "\n",
        "\n",
        "這樣就是一個你可以決定每個block要幾層的network，有種樂高的感覺，然後這個範例也解釋了一個輸入(x1)拆到多個輸出(x1, x2)要怎麼打。\n",
        "這時候有個新問題，如果def不return model而是return layer會發生什麼事？答案是你可以更方便的檢視你所有層的連接，相反地model會直接輸出一個block，你可以用model3.summary() or tf.keras.utils.plot_model(model3)確認他的長相，下面是return layer的範例。"
      ],
      "metadata": {
        "id": "21TQ3-KStdCW"
      }
    },
    {
      "cell_type": "code",
      "source": [
        "def multiple_tensor(input_tensor, depth):\n",
        "  for i in range(depth):\n",
        "    x1 = layers.Dense(64, activation=\"relu\")(inputs)\n",
        "    x2 = layers.Dense(64, activation=\"relu\")(x1)\n",
        "  outputs = layers.Dense(10)(x2)\n",
        "  return layers.Dense(10)(x2)    # return is a tensor\n",
        "\n",
        "x = layers.Input((10, 20), batch_size=None)\n",
        "x1 = multiple_tensor(x, depth)    # note that since it return a tensor, it need \n",
        "x2 = multiple_tensor(x, depth)    # a tensor input instead of layers.Input\n",
        "outputs = layers.Add()([x1, x2])\n",
        "model3 = keras.Model(inputs=inputs, outputs=outputs, name=\"mnist_model\")"
      ],
      "metadata": {
        "id": "034Zzlr55qFu"
      },
      "execution_count": null,
      "outputs": []
    },
    {
      "cell_type": "markdown",
      "source": [
        "The last is class method. The only merit I can found is variable safe.\n",
        "\n",
        "最後是class法，除了變數安全我真的不知道他好在哪"
      ],
      "metadata": {
        "id": "LNKooo0VE_VW"
      }
    },
    {
      "cell_type": "code",
      "source": [
        "class finals(tf.keras.Model):\n",
        "    def __init__(self, variable_you_need):    # functional method don't need this line!\n",
        "        super(finals, self).__init__()    # functional method don't need this line!\n",
        "        self.brabrabra = variable_you_need\n",
        "        self.Avg = layers.AveragePooling1D(www)    # you need to type twice when making single layer!\n",
        "        self.yBN = layers.BatchNormalization()\n",
        "        self.pBN = layers.BatchNormalization()\n",
        "        self.cat = layers.Concatenate()\n",
        "        self.FC = layers.Dense(ww)\n",
        "        self.AC = layers.Activation('sigmoid')\n",
        "        self.FL = layers.Flatten(name='A')\n",
        "    def call(self, inputs):\n",
        "        y_final, p_final, sa_final = inputs   # when the layer has dimension error, it's hard to debug it!\n",
        "        y_final = self.Avg(y_final)       # functional method don't need to type self. !\n",
        "        y_final = self.yBN(y_final)\n",
        "        p_final = self.pBN(p_final)\n",
        "        outputs = self.cat([y_final, p_final, sa_final])\n",
        "        outputs = self.yBN(outputs)\n",
        "        outputs = self.FC(outputs)\n",
        "        outputs = self.AC(outputs)\n",
        "        outputs = self.FL(outputs)\n",
        "        return outputs"
      ],
      "metadata": {
        "id": "nxkW6ixiFRim"
      },
      "execution_count": null,
      "outputs": []
    },
    {
      "cell_type": "markdown",
      "source": [
        "Summary\n",
        "1.   Sequential for easy model.\n",
        "2.   Functional is the best method that you can decide to build by model or multiple tensor.\n",
        "3.   Class is bad.\n",
        "\n",
        "Finally we discuss about the difference between build by model and tensor. If you want to check your model with weight or need intermediate output, use tensor to build, otherwise model to build is enough, and you can ch\n",
        "eck the number of trainable parameter by model.summary() and keras_flops package that tensor can't do it. The last is a training example.\n",
        "\n",
        "總結\n",
        "1.   Sequantial太簡單用不到。\n",
        "2.   Functional很方便你可以決定要輸出model還是tensor。\n",
        "3.   Class很爛。\n",
        "\n",
        "最後我們討論用model和跟tensor建的不同，如果常檢查weight或需要中間層的輸出，那用tensor會很方便，不然用model建就足夠了，而且用model你可以檢查可train參數量還能用keras_flops package，tensor沒辦法用這些東西。最後的最後給一個training的範例。"
      ],
      "metadata": {
        "id": "1MOiA7lH4XkF"
      }
    },
    {
      "cell_type": "code",
      "source": [
        "# example with multi-IO multi-loss, now you are expert in keras\n",
        "model.compile(optimizer=adam,    \n",
        "             loss=['categorical_crossentropy', tf.losses.BinaryCrossentropy]\n",
        "             loss_weights=[.8, .2],    # define their weight\n",
        "             metrics='acc')\n",
        "\n",
        "model.fit([input1, input2],[output1, output2],\n",
        "        epochs=60,\n",
        "        batch_size=1024,\n",
        "        validation_split=0.1,\n",
        "        callbacks=[reduce_lr, early_stop, your_callbacks()],\n",
        "        verbose=1)"
      ],
      "metadata": {
        "id": "wYEKBOyuN5KR"
      },
      "execution_count": null,
      "outputs": []
    },
    {
      "cell_type": "markdown",
      "source": [],
      "metadata": {
        "id": "5LdtTAxyNrmP"
      }
    },
    {
      "cell_type": "markdown",
      "source": [
        "# Now you have finished the course. Below is not often used trick you can search it long after.\n",
        "\n",
        "# 看到這邊就算結束了，下面是比較不常用到的東西，之後用到再回來看。"
      ],
      "metadata": {
        "id": "U-hPM0BpIDm1"
      }
    },
    {
      "cell_type": "markdown",
      "source": [
        "\n",
        "Custom loss:"
      ],
      "metadata": {
        "id": "rFT1wqn08WwS"
      }
    },
    {
      "cell_type": "code",
      "source": [
        "class bce(tf.keras.losses.Loss):\n",
        "    def __init__(self, tau=0.5, name='myloss', **kwargs):\n",
        "      super(custom_metric, self).__init__(name=name, **kwargs)\n",
        "      self.L1 = tf.losses.BinaryCrossentropy()\n",
        "\n",
        "    def call(self, y_true, y_pred, from_logits=False, label_smoothing=0.0, axis=-1):\n",
        "        # call defines what it computes\n",
        "        return self.L1(y_true, y_pred) + tf.math.reduce_mean(tf.pow(tf.abs(y_true-y_pred), 2))"
      ],
      "metadata": {
        "id": "h3VW3dCO8WCm"
      },
      "execution_count": null,
      "outputs": []
    },
    {
      "cell_type": "markdown",
      "source": [
        "Custom layer:"
      ],
      "metadata": {
        "id": "aDgrp7ze9lya"
      }
    },
    {
      "cell_type": "code",
      "source": [
        "class Beta(layers.Layer):\n",
        "    # a trainable constant multiplication\n",
        "    def __init__(self, val):\n",
        "        super(Beta, self).__init__()\n",
        "        self.val = val\n",
        "\n",
        "    def build(self, input_shape):\n",
        "        # this method predifne the weights\n",
        "        self.beta = self.add_weight('beta', shape=[1,1], trainable=True, initializer=tf.constant_initializer(self.val))\n",
        "\n",
        "    def call(self, inputs):\n",
        "      # if this layer has multi-input:\n",
        "      # inputs1, inputs2 = inputs\n",
        "      # anything you want to do\n",
        "        return tf.math.multiply(self.beta, inputs)\n",
        "\n",
        "# call it same as default layers\n",
        "outputs = Beta(0.5)(inputs)\n",
        "# call it if multi inputs\n",
        "#outputs = Beta(0.5)([inputs1, inputs2])"
      ],
      "metadata": {
        "id": "n1TjKm9o9lSx"
      },
      "execution_count": null,
      "outputs": []
    },
    {
      "cell_type": "markdown",
      "source": [
        "Custom callback:"
      ],
      "metadata": {
        "id": "7SmaoB41-HBr"
      }
    },
    {
      "cell_type": "code",
      "source": [
        "class custom_callback(tf.keras.callbacks.Callback):\n",
        "  # you can even visualize the convergence in real data when training\n",
        "    def __init__(self, YOUR_VAL_DATA):\n",
        "        super(custom_callback, self).__init__()\n",
        "        self.task_type = ''\n",
        "        self.epoch = 0\n",
        "        self.batch = 0\n",
        "        self.YOUR_VAL_DATA = YOUR_VAL_DATA\n",
        "         \n",
        "    def on_epoch_end(self, epoch, logs=None):\n",
        "        label = self.model.predict(self.YOUR_VAL_DATA)\n",
        "        plt.plot(label)"
      ],
      "metadata": {
        "id": "o5dSVlJn-Gah"
      },
      "execution_count": null,
      "outputs": []
    },
    {
      "cell_type": "markdown",
      "source": [
        "Pack multiple model as single layer:"
      ],
      "metadata": {
        "id": "EexTnW_9-vN8"
      }
    },
    {
      "cell_type": "code",
      "source": [
        "def pack(tensor_list):\n",
        "    [a_in, b_in] = tensor_list # a list that contains multiple inputs from last layer\n",
        "    a_out = model(a_in)\n",
        "    b_out = model1(b_in)\n",
        "    return [a_out, b_out]"
      ],
      "metadata": {
        "id": "rFoYNMkG-zuC"
      },
      "execution_count": null,
      "outputs": []
    },
    {
      "cell_type": "markdown",
      "source": [
        "Multiple input output model:"
      ],
      "metadata": {
        "id": "JbkHWiKD_Q1n"
      }
    },
    {
      "cell_type": "code",
      "source": [
        "inputs1 = layers.Input((10, 20), batch_size=None)\n",
        "inputs2 = layers.Input((10, 20), batch_size=None)\n",
        "x1 = layers.Dense(64, activation=\"relu\")(inputs)\n",
        "x2 = layers.Dense(64, activation=\"relu\")(x1)\n",
        "x2 = layers.Add()([x1, x2])\n",
        "outputs1 = layers.Dense(10)(x2)\n",
        "outputs2 = layers.Dense(1)(x1)\n",
        "model = keras.Model(inputs=[inputs1, inputs2], outputs=[outputs1, outputs2])"
      ],
      "metadata": {
        "id": "Jz8DhUDS_QU3"
      },
      "execution_count": null,
      "outputs": []
    },
    {
      "cell_type": "markdown",
      "source": [
        "transfer learning:\n",
        "\n",
        "*https://keras.io/guides/transfer_learning/#freezing-layers-understanding-the-trainable-attribute*"
      ],
      "metadata": {
        "id": "C3T7XjLrHdbm"
      }
    },
    {
      "cell_type": "code",
      "source": [
        "import some_trained_model_or_layer\n",
        "layer = some_trained_model_or_layer\n",
        "layer.trainable = False  # Freeze the layer\n",
        "\n",
        "# It's important to recompile your model after you make any changes\n",
        "# to the `trainable` attribute of any inner layer, so that your changes\n",
        "# are take into account\n",
        "model.compile(optimizer=keras.optimizers.Adam(1e-5),  # Very low learning rate\n",
        "              loss=keras.losses.BinaryCrossentropy(from_logits=True),\n",
        "              metrics=[keras.metrics.BinaryAccuracy()])"
      ],
      "metadata": {
        "id": "ws3mJmXaHivB"
      },
      "execution_count": null,
      "outputs": []
    },
    {
      "cell_type": "markdown",
      "source": [
        "Add loss: use it while you want to add loss to a certain layer, even it doesn't has relationship to output label. You can see it on tensorflow offical tutorial for add loss in layer, below is add loss by model method:\n",
        "\n",
        "當你想要loss加在某一層，甚至他不要跟training data有關係的時候可以用它。你可以去tensorflow官網找在layer加loss的，下面是用model的方法加：\n"
      ],
      "metadata": {
        "id": "6cujkhZ5Cty6"
      }
    },
    {
      "cell_type": "code",
      "source": [
        "def loss_min_l2norm(outputs):\n",
        "    return tf.reduce_mean(tf.sqrt(tf.reduce_sum(tf.square(tf.abs(outputs[:, 0, :])), axis=-1)))*0.01\n",
        "loss = layers.Lambda(lambda x: loss_min_l2norm(x))(layer[0])\n",
        "model.add_loss(loss)\n",
        "\n",
        "# or you can do this\n",
        "def loss_min_l2norm_with_multi_layer(inputs):\n",
        "  input1, input2 = inputs\n",
        "  # input 1, 2  can be different layer output but the have correlation, in this example they should as same as possible\n",
        "    return tf.reduce_mean(tf.reduce_sum(tf.pow(tf.abs(input1, input2), 2)))*0.01\n",
        "loss = layers.Lambda(lambda x: loss_min_l2norm_with_multi_layer(x))([layer1, layer2])\n",
        "model.add_loss(loss)\n"
      ],
      "metadata": {
        "id": "q9Kxff70_e3n"
      },
      "execution_count": null,
      "outputs": []
    },
    {
      "cell_type": "markdown",
      "source": [
        "Re-input to same layer (like iteration in traditional algorithm):"
      ],
      "metadata": {
        "id": "AlAo6hZyFbgB"
      }
    },
    {
      "cell_type": "code",
      "source": [
        "poor_guy = layers.Dense(100)\n",
        "inputs = layers.Input((1,10))(x)\n",
        "a = poor_guy(x)\n",
        "a = poor_guy(a)\n",
        "outputs = poor_guy(a)\n",
        "model() = keras.Model(inputs=inputs, outputs=outputs)\n",
        "model4.summary()"
      ],
      "metadata": {
        "id": "7xmXLtJqFs4E"
      },
      "execution_count": null,
      "outputs": []
    },
    {
      "cell_type": "markdown",
      "source": [
        "Generator: when the training data is too big GPU can't accomadate."
      ],
      "metadata": {
        "id": "lpLrtX_ALYNw"
      }
    },
    {
      "cell_type": "code",
      "source": [
        "def your_generator():\n",
        "    while True:\n",
        "        data, label = YOUR_DATA_INPUT()\n",
        "        yield data, label\n",
        "\n",
        "model.compile(optimizer=adam,\n",
        "             loss='categorical_crossentropy',\n",
        "             metrics='acc')\n",
        "\n",
        "VAL_DATA=your_generator()\n",
        "model.fit(your_generator(),\n",
        "        epochs=100000,\n",
        "        batch_size=2048,\n",
        "        validation_data=VAL_DATA,\n",
        "        validation_steps=1,\n",
        "        steps_per_epoch=5000,    # how many steps in single epoch since it don't\n",
        "        callbacks=[reduce_lr])   # know the total data size"
      ],
      "metadata": {
        "id": "nDXf8pUwLcjy"
      },
      "execution_count": null,
      "outputs": []
    },
    {
      "cell_type": "markdown",
      "source": [
        "Faster training: jit compile (XLA)"
      ],
      "metadata": {
        "id": "BXL1XXSNPgQt"
      }
    },
    {
      "cell_type": "code",
      "source": [
        "# add it before model.fit. You can set false before build model\n",
        "# example:\n",
        "tf.keras.backend.clear_session()\n",
        "tf.config.optimizer.set_jit(False)\n",
        "# ...build model\n",
        "tf.keras.backend.clear_session()\n",
        "tf.config.optimizer.set_jit(True)\n",
        "# ...model.fit"
      ],
      "metadata": {
        "id": "_jNGWa6WPf2Q"
      },
      "execution_count": null,
      "outputs": []
    },
    {
      "cell_type": "markdown",
      "source": [
        "Faster training: mixed precision (might cause zero gradient)"
      ],
      "metadata": {
        "id": "28Xu5g_BQED9"
      }
    },
    {
      "cell_type": "code",
      "source": [
        "# you need to put this before construct any tensor, better first line\n",
        "from tensorflow.keras import mixed_precision\n",
        "mixed_precision.set_global_policy('mixed_float16')"
      ],
      "metadata": {
        "id": "GDCntK7cP1EZ"
      },
      "execution_count": null,
      "outputs": []
    },
    {
      "cell_type": "markdown",
      "source": [
        "# Questions"
      ],
      "metadata": {
        "id": "_2RtmDMfJe8l"
      }
    },
    {
      "cell_type": "markdown",
      "source": [
        "**How the layer.Dense(name = '...') work in tensorflow**\n",
        "\n",
        "It has no relation to python variable, it just a name process and you can name it to make it easier to find your layer (otherwise it's dense1, dense2, ...)\n",
        "\n",
        "他跟python變數沒關係，就只是個命名然後你可以更好找到你的layer，不然layer名稱會是依序排下去你很難辨認。\n",
        "\n",
        "\n",
        "---\n",
        "\n",
        "\n",
        "**Batch size pre-define in layers.Input or define in model.fit? **\n",
        "Predefine you can't not use get_flops since it need batch size = 1.\n",
        "\n",
        "batch size要不要在layers.Input就設好還是在model.fit再設定？唯一的差別只有你在用get_flops的時候會出錯因為他要batch size = 1\n",
        "\n",
        "\n",
        "---\n",
        "\n",
        "\n",
        "**keras backend or tf.math? (~TF2.9, TF2.10 after not tested)**\n",
        "\n",
        "tf.math is enough. You can even mix using them. However, if you construct a custom layer with tf.math(...) method as a trainable, use model.trainable=False would not fix weight but it shows False.\n",
        "\n",
        "tf.math就夠了，你還可以混用他們。但是如果你用tf.math寫一個trainable custom layer在設定trainable=False的時候雖然顯示False但還是不會fix。\n",
        "\n",
        "\n",
        "\n",
        "---\n",
        "**Is keras_flops (get_flops) precise?**\n",
        "\n",
        "It provide a soso precision. It uses tensorflow build-in package to calculate, and it has some difference between theory. For example, softmax provide 5 times input size FLOPs, however in theory it's 3 times input size FLOPs.\n",
        "\n",
        "還行，不過他用tensorflow內建的包來算所以和理論值有差，例如softmax是5倍input size但理論值是3倍input size.\n",
        "\n",
        "*ref: https://github.com/tensorflow/tensorflow/blob/master/tensorflow/python/profiler/internal/flops_registry.py*\n",
        "\n",
        "\n",
        "\n",
        "\n",
        "---\n",
        "\n",
        "\n",
        "**What's locally connected 1D/2D?**\n",
        "\n",
        "I don't know either, please tell me."
      ],
      "metadata": {
        "id": "-cdItz-_IYRM"
      }
    },
    {
      "cell_type": "markdown",
      "source": [
        "# The summary of summary\n",
        "We discussed:\n",
        "\n",
        "1.   Sequential v.s. functional v.s. class\n",
        "2.   Difference of where to define batch size\n",
        "3.   What happens to rename a connected layer\n",
        "4.   Multi-same network construct\n",
        "5.   Model construct or layer construct\n",
        "6.   Multi-input/output model/layer\n",
        "7.   Custom loss/layer/callback\n",
        "8.   How to pack multiple model\n",
        "9.   Methods to speed up training\n",
        "\n",
        "我們討論了：\n",
        "\n",
        "1. 三種建構方法\n",
        "2. 哪裡定義batch size的差別\n",
        "3. 重定義一個連接過的層會怎樣\n",
        "4. 多個相同network建構\n",
        "5. 要用model還是layer\n",
        "6. 多輸入輸出的模型或層\n",
        "7. 自定義loss/layer/callback\n",
        "8. 如何打包多模型\n",
        "9. 加速訓練的方法\n",
        "\n"
      ],
      "metadata": {
        "id": "2EcSkw10btwC"
      }
    }
  ]
}